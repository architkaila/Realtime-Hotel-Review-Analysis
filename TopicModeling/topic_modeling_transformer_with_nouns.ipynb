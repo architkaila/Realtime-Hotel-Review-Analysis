{
 "cells": [
  {
   "cell_type": "markdown",
   "id": "923261bb",
   "metadata": {},
   "source": [
    "<a href='https://ai.meng.duke.edu'> = <img align=\"left\" style=\"padding-top:10px;\" src=https://storage.googleapis.com/aipi_datasets/Duke-AIPI-Logo.png>"
   ]
  },
  {
   "cell_type": "code",
   "execution_count": 7,
   "id": "abc8c4db",
   "metadata": {},
   "outputs": [],
   "source": [
    "import requests\n",
    "from bs4 import BeautifulSoup\n",
    "from sklearn.feature_extraction.text import CountVectorizer\n",
    "import spacy\n",
    "from sentence_transformers import SentenceTransformer\n",
    "from sklearn.metrics.pairwise import cosine_similarity\n",
    "from nltk.corpus import stopwords\n",
    "import numpy as np\n",
    "import pandas as pd"
   ]
  },
  {
   "cell_type": "code",
   "execution_count": 8,
   "id": "fa67cd71-8520-4a5a-8e64-5c089262a7f2",
   "metadata": {},
   "outputs": [
    {
     "data": {
      "text/html": [
       "<div>\n",
       "<style scoped>\n",
       "    .dataframe tbody tr th:only-of-type {\n",
       "        vertical-align: middle;\n",
       "    }\n",
       "\n",
       "    .dataframe tbody tr th {\n",
       "        vertical-align: top;\n",
       "    }\n",
       "\n",
       "    .dataframe thead th {\n",
       "        text-align: right;\n",
       "    }\n",
       "</style>\n",
       "<table border=\"1\" class=\"dataframe\">\n",
       "  <thead>\n",
       "    <tr style=\"text-align: right;\">\n",
       "      <th></th>\n",
       "      <th>Review</th>\n",
       "      <th>Rating</th>\n",
       "      <th>Sentiment</th>\n",
       "      <th>cleaned_reviews</th>\n",
       "    </tr>\n",
       "  </thead>\n",
       "  <tbody>\n",
       "    <tr>\n",
       "      <th>0</th>\n",
       "      <td>unique, great stay, wonderful time hotel monac...</td>\n",
       "      <td>5</td>\n",
       "      <td>1.0</td>\n",
       "      <td>unique great stay wonderful time hotel monaco ...</td>\n",
       "    </tr>\n",
       "    <tr>\n",
       "      <th>1</th>\n",
       "      <td>great stay great stay, went seahawk game aweso...</td>\n",
       "      <td>5</td>\n",
       "      <td>1.0</td>\n",
       "      <td>great stay great stay go seahawk game awesome ...</td>\n",
       "    </tr>\n",
       "    <tr>\n",
       "      <th>2</th>\n",
       "      <td>love monaco staff husband stayed hotel crazy w...</td>\n",
       "      <td>5</td>\n",
       "      <td>1.0</td>\n",
       "      <td>love monaco staff husband stay hotel crazy wee...</td>\n",
       "    </tr>\n",
       "    <tr>\n",
       "      <th>3</th>\n",
       "      <td>cozy stay rainy city, husband spent 7 nights m...</td>\n",
       "      <td>5</td>\n",
       "      <td>1.0</td>\n",
       "      <td>cozy stay rainy city husband spend night monac...</td>\n",
       "    </tr>\n",
       "    <tr>\n",
       "      <th>4</th>\n",
       "      <td>hotel stayed hotel monaco cruise, rooms genero...</td>\n",
       "      <td>5</td>\n",
       "      <td>1.0</td>\n",
       "      <td>hotel stay hotel monaco cruise room generous d...</td>\n",
       "    </tr>\n",
       "  </tbody>\n",
       "</table>\n",
       "</div>"
      ],
      "text/plain": [
       "                                              Review  Rating  Sentiment  \\\n",
       "0  unique, great stay, wonderful time hotel monac...       5        1.0   \n",
       "1  great stay great stay, went seahawk game aweso...       5        1.0   \n",
       "2  love monaco staff husband stayed hotel crazy w...       5        1.0   \n",
       "3  cozy stay rainy city, husband spent 7 nights m...       5        1.0   \n",
       "4  hotel stayed hotel monaco cruise, rooms genero...       5        1.0   \n",
       "\n",
       "                                     cleaned_reviews  \n",
       "0  unique great stay wonderful time hotel monaco ...  \n",
       "1  great stay great stay go seahawk game awesome ...  \n",
       "2  love monaco staff husband stay hotel crazy wee...  \n",
       "3  cozy stay rainy city husband spend night monac...  \n",
       "4  hotel stay hotel monaco cruise room generous d...  "
      ]
     },
     "execution_count": 8,
     "metadata": {},
     "output_type": "execute_result"
    }
   ],
   "source": [
    "data = pd.read_pickle(\"data.pkl\")\n",
    "review_list = data.Review.values.tolist()\n",
    "data.head()"
   ]
  },
  {
   "cell_type": "markdown",
   "id": "77735645-3f36-4aa9-a5e1-ad88e126141b",
   "metadata": {},
   "source": [
    "## Find candidate topics (Nouns)"
   ]
  },
  {
   "cell_type": "code",
   "execution_count": 11,
   "id": "4230d46a-cda9-40ed-b521-96e011bfbcc7",
   "metadata": {},
   "outputs": [],
   "source": [
    "# Extract candidate 1-grams and 2-grams \n",
    "n_gram_range = (1, 2)\n",
    "vectorizer = CountVectorizer(ngram_range=n_gram_range, stop_words=stopwords.words('english'))\n",
    "vectorizer.fit(review_list)\n",
    "candidates = vectorizer.get_feature_names_out()\n",
    "\n",
    "# Get noun phrases and nouns from articles\n",
    "nlp = spacy.load('en_core_web_sm')\n",
    "all_nouns = set()\n",
    "for doc in review_list:\n",
    "    doc_processed = nlp(doc)\n",
    "    # Add noun chunks\n",
    "    all_nouns.add(chunk.text.strip().lower() for chunk in doc_processed.noun_chunks)\n",
    "    # Add nouns\n",
    "    for token in doc_processed:\n",
    "            if token.pos_ == \"NOUN\":\n",
    "                all_nouns.add(token.text)\n",
    "\n",
    "# Filter candidate topics to only those in the nouns set\n",
    "candidates = [c for c in candidates if c in all_nouns]"
   ]
  },
  {
   "cell_type": "markdown",
   "id": "a3f27873-756a-4609-beb8-6d814f7a88a9",
   "metadata": {},
   "source": [
    "## Embed candidates and documents and find matching topics"
   ]
  },
  {
   "cell_type": "code",
   "execution_count": 12,
   "id": "dd916313-13fd-4fac-b59b-0084570bc2d7",
   "metadata": {},
   "outputs": [],
   "source": [
    "def model_topics(documents, candidates, num_topics):\n",
    "    #model = SentenceTransformer('all-MiniLM-L6-v2')\n",
    "    model = SentenceTransformer('multi-qa-MiniLM-L6-cos-v1')\n",
    "    # Encode each of the reviews\n",
    "    doc_embeddings = [model.encode([doc]) for doc in documents]\n",
    "    # Encode the candidate topics\n",
    "    candidate_embeddings = model.encode(candidates)\n",
    "\n",
    "    # Calculate cosine similarity between each document and candidate topics\n",
    "    # Take the top candidate topics as keywords for each document\n",
    "    review_keywords = []\n",
    "    for doc in doc_embeddings:\n",
    "        scores = cosine_similarity(doc, candidate_embeddings)\n",
    "        keywords = [candidates[index] for index in scores.argsort()[0][-num_topics:]]\n",
    "        review_keywords.append(keywords)\n",
    "    \n",
    "    return review_keywords"
   ]
  },
  {
   "cell_type": "code",
   "execution_count": 13,
   "id": "083dbbad-1c45-42ad-b2ed-17b1a850fd5d",
   "metadata": {},
   "outputs": [],
   "source": [
    "topics = model_topics(data.Review.values.tolist(), candidates, num_topics=5)\n",
    "\n",
    "data[\"Topic Keywords\"] = topics"
   ]
  },
  {
   "cell_type": "code",
   "execution_count": 15,
   "id": "73454c30-8816-46c2-bc00-f3180df77b9c",
   "metadata": {},
   "outputs": [
    {
     "name": "stdout",
     "output_type": "stream",
     "text": [
      "unique, great stay, wonderful time hotel monaco, location excellent short stroll main downtown shopping area, pet friendly room showed no signs animal hair smells, monaco suite sleeping area big striped curtains pulled closed nice touch felt cosy, goldfish named brandi enjoyed, did n't partake free wine coffee/tea service lobby thought great feature, great staff friendly, free wireless internet hotel worked suite 2 laptops, decor lovely eclectic mix pattens color palatte, animal print bathrobes feel like rock stars, nice did n't look like sterile chain hotel hotel personality excellent stay,  \n",
      "Topic keywords: ['villas', 'hotelthe', 'luxurious', 'hotels', 'hotel']\n",
      "\n",
      "\n",
      "great stay great stay, went seahawk game awesome, downfall view building did n't complain, room huge staff helpful, booked hotels website seahawk package, no charge parking got voucher taxi, problem taxi driver did n't want accept voucher barely spoke english, funny thing speak arabic called started making comments girlfriend cell phone buddy, took second realize just said fact speak language face priceless, ass told, said large city, told head doorman issue called cab company promply answer did n't, apologized offered pay taxi, bucks 2 miles stadium, game plan taxi return going humpin, great walk did n't mind, right christmas wonderful lights, homeless stowed away building entrances leave, police presence not greatest area stadium, activities 7 blocks pike street waterfront great coffee shops way, hotel mantained foyer awesome, wine tasting available evening, best dog, taking st. bernard time family, safes hotel located service desk room, bathroom huge jetted tub huge, funny house keeping walked girlfriend getting dressed, did n't hear knock doing turn service, screamed girlfriend screams hit floor laughing, started talking spanish worked, place recommend price, check online deals just good not better, besite contains deals vouchers travel websites n't tell,  \n",
      "Topic keywords: ['wonderful2', 'wonderfulover', 'wonderfulcity', 'wonderfulsuggestions', 'great']\n",
      "\n",
      "\n",
      "love monaco staff husband stayed hotel crazy weekend attending memorial service best friend husband celebrating 12th wedding anniversary, talk mixed emotions, booked suite hotel monte carlos, loaned beautiful fan-tanned goldfish named joliet weekend visited dogs worked desk human companions, room decorated nicely couch used pillows, l'occitane bath amenities welcome sight, room quiet peaceful, wireless internet access wonderful server went morning leaving problems printing boarding passes, afternoon reception serves oenophile-satisfying wine australia scrumptious cookies, restaurant closed renovation stay finally ate food good drinks better, word caution restaurant larger person not sit booths wo n't fit, 5'6 125 lbs husband 5'9 175. table smack-against stomach couple inches space mighty uncomfortable patron larger pregnant, bad design opinion place decorated funky welcoming way metal wood handblown glass light fixtures expect seattle capital glass art industry, definitely stay reason,  \n",
      "Topic keywords: ['honeymooners', 'luxurious', 'luxury', 'hoteliers', 'villas']\n",
      "\n",
      "\n",
      "cozy stay rainy city, husband spent 7 nights monaco early january 2008. business trip chance come ride.we booked monte carlo suite proved comfortable longish stay, room 905 located street building, street noise not problem view interesting rooms building look dank alley midsection large office building, suite comfortable plenty room spread, bathroom attractive squeaky clean small comparison generous proportions sitting sleeping areas, lots comfortable seating options good lighting plenty storage clothing luggage, hotel staff friendly efficient, housekeeping staff did great job pleasant, requests responded quickly.the location quite good, easy walk pike street market seattle art museum notch shopping dining options.a positive experience,  \n",
      "Topic keywords: ['luxurious', 'hotelroom', 'hotelperhaps', 'hotel', 'luxury']\n",
      "\n",
      "\n",
      "hotel stayed hotel monaco cruise, rooms generous decorated uniquely, hotel remodeled pacific bell building charm sturdiness, everytime walked bell men felt like coming home, secure, great single travelers, location fabulous, walk things pike market space needle.little grocery/drug store block away, today green, bravo, 1 double bed room room bed couch separated curtain, snoring mom slept curtain, great food nearby,  \n",
      "Topic keywords: ['motels', 'hotelthe', 'hotelroom', 'hotels', 'hotel']\n",
      "\n",
      "\n",
      "excellent stayed hotel monaco past w/e delight, reception staff friendly professional room smart comfortable bed, particularly liked reception small dog received staff guests spoke loved, mild negative distance uphill ppmarket restaurants 1st, overall great experience,  \n",
      "Topic keywords: ['hotelgreat', 'hotelsis', 'hotelthe', 'hotels', 'hotel']\n",
      "\n",
      "\n",
      "horrible customer service hotel stay february 3rd 4th 2007my friend picked hotel monaco appealing website online package included champagne late checkout 3 free valet gift spa weekend, friend checked room hours earlier came later, pulled valet young man just stood, asked valet open said, pull bags didn__Ç_é_ offer help, got garment bag suitcase came car key room number says not valet, car park car street pull, left key working asked valet park car gets, went room fine bottle champagne oil lotion gift spa, dressed went came got bed noticed blood drops pillows sheets pillows, disgusted just unbelievable, called desk sent somebody 20 minutes later, swapped sheets left apologizing, sunday morning called desk speak management sheets aggravated rude, apparently no manager kind supervisor weekend wait monday morning, young man spoke said cover food adding person changed sheets said fresh blood rude tone, checkout 3pm package booked, 12 1:30 staff maids tried walk room opening door apologizing closing, people called saying check 12 remind package, finally packed things went downstairs check, quickly signed paper took, way took closer look room, unfortunately covered food offered charged valet, called desk ask charges lady answered snapped saying aware problem experienced monday like told earlier, life treated like hotel, not sure hotel constantly problems lucky ones stay recommend anybody know,  \n",
      "Topic keywords: ['hotel', 'valets', 'hotel1898', 'hoteliers', 'hotelperhaps']\n",
      "\n",
      "\n",
      "fantastic stay monaco seattle hotel monaco holds high standards kimpton hotel line, having stayed kimpton hotels cities easily say seattle hotel monaco best seen, service attentive prompt, based member kimpton loyalty program upgraded 10th floor room great view 4th street excellent public library kitty-corner hotel, highly recommend tour public library blown away, room quite spacious beautiful flat-screen television dvd/cd player, exercise room pretty standard kimpton size means adequate not outstanding eliptical cardio machines stationary bikes personal viewing screens, cardio machine screens accept dvd not seen, kimpton hotels hotel monaco line particular hotel lobby stylish quirky inviting, easy imagine spending time relaxing comfortable over-stuffed chairs, restaurant attached hotel sazerac good, far eaten lunch look forward breakfast tomorrow, kimpton properties able connect free highspeed internet ethernet seconds cruising web checking email office no problems, opinion ca n't wrong kimpton hotel seattle hotel monaco certainly excellent choice,  \n",
      "Topic keywords: ['hotelchatter', 'hotelroom', 'hotelthe', 'hotels', 'hotel']\n",
      "\n",
      "\n",
      "good choice hotel recommended sister, great location room nice, comfortable bed- quiet- staff helpful recommendations restaurants, pike market 4 block walk, stay,  \n",
      "Topic keywords: ['hotelperhaps', 'motels', 'hotelroom', 'hotels', 'hotel']\n",
      "\n",
      "\n",
      "service service service spent week g-friend labor day bumbershoot, gray line airporter drops corner hotel 10 person cab 28 total make sure flat rate town car 38. location central downtown street w. it__Ç_é_ quick walk points tourist business, yes space needle bit far monorail westlake center easy walk away, tourist underground tour public market space needle emp, leave bit room luggage shopping great, neighborhood safe clean, room mediterranean suite quite large equipped two-person jacuzzi tub small stand glass-enclosed shower, room no view did not care, room clean small throw blanket adorned foot bed took, tastefully decorated walls striped, trust wont feel like stale hotel, ask gold fish bring well-behaved dog company.service aspects excellent, desk house keeping concierge room service bell desk ready provide warm professional service, test don__Ç_é_ flinch.gym open 24 hours newer cardio machines dumbbells, highest weight 25. water towels tv, gold__Ç_é_ walking distance.gastronomy sazerac worth try not impressive it__Ç_é_ amusing.this visit seattle monaco, like beds westin better prefer monaco afford w. g-friends visit wants bumbershoot year stay hotel monaco,  \n",
      "Topic keywords: ['clubroom', 'hoteliers', 'vacations', 'vacationer', 'vacationers']\n",
      "\n",
      "\n"
     ]
    }
   ],
   "source": [
    "for i,keywords in enumerate(topics[:10]):\n",
    "    print(review_list[i])\n",
    "    print('Topic keywords: {}'.format(keywords))\n",
    "    print(\"\\n\")"
   ]
  },
  {
   "cell_type": "code",
   "execution_count": 16,
   "id": "2dfb7376-6bdd-4154-9823-c293e922c9eb",
   "metadata": {},
   "outputs": [],
   "source": [
    "data.to_csv(\"topics_from_transformer_nouns.csv\", index=False)"
   ]
  },
  {
   "cell_type": "code",
   "execution_count": null,
   "id": "4501f238-27bc-4488-8cb8-784c6d209fee",
   "metadata": {},
   "outputs": [],
   "source": []
  }
 ],
 "metadata": {
  "kernelspec": {
   "display_name": "aipi540",
   "language": "python",
   "name": "aipi540"
  },
  "language_info": {
   "codemirror_mode": {
    "name": "ipython",
    "version": 3
   },
   "file_extension": ".py",
   "mimetype": "text/x-python",
   "name": "python",
   "nbconvert_exporter": "python",
   "pygments_lexer": "ipython3",
   "version": "3.8.16"
  }
 },
 "nbformat": 4,
 "nbformat_minor": 5
}
