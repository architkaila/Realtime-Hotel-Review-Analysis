{
 "cells": [
  {
   "cell_type": "markdown",
   "id": "923261bb",
   "metadata": {},
   "source": [
    "<a href='https://ai.meng.duke.edu'> = <img align=\"left\" style=\"padding-top:10px;\" src=https://storage.googleapis.com/aipi_datasets/Duke-AIPI-Logo.png>"
   ]
  },
  {
   "cell_type": "markdown",
   "id": "cd16594c",
   "metadata": {},
   "source": [
    "# Topic Modeling using Defined Topics\n",
    "In some cases we may have a pre-existing list of topics and wish to identify which topic(s) is contained within each document in a set of documents.  We could accomplish this using a supervised classification model if we had a portion of the documents labeled with their corresponding topic, but we can also use unsupervised approaches to do this."
   ]
  },
  {
   "cell_type": "code",
   "execution_count": 3,
   "id": "b2c22cf5",
   "metadata": {},
   "outputs": [],
   "source": [
    "import requests\n",
    "from bs4 import BeautifulSoup\n",
    "from sklearn.feature_extraction.text import CountVectorizer\n",
    "import spacy\n",
    "from sentence_transformers import SentenceTransformer\n",
    "from sklearn.metrics.pairwise import cosine_similarity\n",
    "from nltk.corpus import stopwords\n",
    "import numpy as np"
   ]
  },
  {
   "cell_type": "markdown",
   "id": "ff6c3cb6",
   "metadata": {},
   "source": [
    "## Get documents to tag with topics\n",
    "We will use BeautifulSoup to get the content of a few articles from the web and strip the text content from the hmtl.  "
   ]
  },
  {
   "cell_type": "code",
   "execution_count": 4,
   "id": "5e453c7f",
   "metadata": {},
   "outputs": [],
   "source": [
    "# Get article\n",
    "article_urls = ['https://www.cbssports.com/college-basketball/news/duke-basketballs-game-vs-clemson-postponed-due-to-positive-covid-19-tests-in-blue-devils-program/',\n",
    "                'https://www.usatoday.com/story/news/health/2021/12/21/covid-holiday-safety-need-to-know/8968198002/',\n",
    "                'https://www.fayobserver.com/story/sports/college/basketball/2021/12/29/duke-blue-devils-basketball-recruiting-jon-scheyer-commits/9032663002/',\n",
    "                'https://www.today.com/health/health/covid-19-cold-flu-tell-difference-rcna10114',\n",
    "                'https://www.dukechronicle.com/article/2021/06/duke-mens-basketball-head-coach-jon-scheyer-mike-krzyzewski',\n",
    "                'https://www.hopkinsmedicine.org/health/conditions-and-diseases/coronavirus']\n",
    "article_text = []\n",
    "titles = []\n",
    "for url in article_urls:\n",
    "    page = requests.get(url)\n",
    "    soup = BeautifulSoup(page.content, 'html.parser')\n",
    "    # Extract body text from article\n",
    "    bodytext = soup.find_all('p')\n",
    "    bodytext = [i.text for i in bodytext]\n",
    "    bodytext = ' '.join(bodytext)\n",
    "    article_text.append(bodytext)\n",
    "    # Extract titles for articles\n",
    "    title = soup.find_all('h1')\n",
    "    title = title[0].text.strip()\n",
    "    titles.append(title)\n"
   ]
  },
  {
   "cell_type": "markdown",
   "id": "b17396ce",
   "metadata": {},
   "source": [
    "We will define a list of topics below which are contained within our set of documents.  Our goal will then be to try to correctly identify the corresponding topic from the list for each article."
   ]
  },
  {
   "cell_type": "code",
   "execution_count": 1,
   "id": "fdf2472a",
   "metadata": {},
   "outputs": [],
   "source": [
    "topic_list = ['coronavirus','Duke basketball']"
   ]
  },
  {
   "cell_type": "markdown",
   "id": "b8e0a0bd",
   "metadata": {},
   "source": [
    "## Embed topics and documents and find closest matching topics"
   ]
  },
  {
   "cell_type": "code",
   "execution_count": 11,
   "id": "61e262c2",
   "metadata": {},
   "outputs": [],
   "source": [
    "def model_topics(documents,candidates):\n",
    "    model = SentenceTransformer('all-MiniLM-L6-v2')\n",
    "    # Encode each of the articles\n",
    "    doc_embeddings = [model.encode([doc]) for doc in documents]\n",
    "    # Encode the candidate topics\n",
    "    candidate_embeddings = model.encode(candidates)\n",
    "\n",
    "    # Calculate cosine similarity between each document and candidate topics\n",
    "    # Take the top candidate topic as topic for each document\n",
    "    topics = []\n",
    "    for doc in doc_embeddings:\n",
    "        scores = cosine_similarity(doc, candidate_embeddings)\n",
    "        topic = candidates[scores.argsort()[0][-1]]\n",
    "        topics.append(topic)\n",
    "    \n",
    "    return topics"
   ]
  },
  {
   "cell_type": "code",
   "execution_count": 13,
   "id": "9c85b49a",
   "metadata": {},
   "outputs": [
    {
     "name": "stdout",
     "output_type": "stream",
     "text": [
      "Article 0: Duke basketball games vs. Clemson, Notre Dame postponed due to positive COVID-19 tests in Blue Devils program\n",
      "Topic: Duke basketball\n",
      "\n",
      "Article 1: Vaccinated and test positive? What to know about omicron, COVID for this holiday season.\n",
      "Topic: coronavirus\n",
      "\n",
      "Article 2: How did Duke basketball and Jon Scheyer keep up their major recruiting hot streak in December?\n",
      "Topic: Duke basketball\n",
      "\n",
      "Article 3: Is it COVID-19 or just a cold? Here's how to tell the difference\n",
      "Topic: coronavirus\n",
      "\n",
      "Article 4: Jon Scheyer to succeed Mike Krzyzewski after Duke men's basketball's 2021-22 season\n",
      "Topic: Duke basketball\n",
      "\n",
      "Article 5: What Is Coronavirus?\n",
      "Topic: coronavirus\n",
      "\n"
     ]
    }
   ],
   "source": [
    "topics = model_topics(article_text,topic_list)\n",
    "for i,keywords in enumerate(topics):\n",
    "    print('Article {}: {}'.format(i,titles[i]))\n",
    "    print('Topic: {}'.format(keywords))\n",
    "    print()"
   ]
  }
 ],
 "metadata": {
  "kernelspec": {
   "display_name": "Python 3",
   "language": "python",
   "name": "python3"
  },
  "language_info": {
   "codemirror_mode": {
    "name": "ipython",
    "version": 3
   },
   "file_extension": ".py",
   "mimetype": "text/x-python",
   "name": "python",
   "nbconvert_exporter": "python",
   "pygments_lexer": "ipython3",
   "version": "3.9.7"
  }
 },
 "nbformat": 4,
 "nbformat_minor": 5
}
