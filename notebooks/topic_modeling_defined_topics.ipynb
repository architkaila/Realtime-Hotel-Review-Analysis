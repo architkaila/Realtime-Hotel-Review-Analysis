{
 "cells": [
  {
   "cell_type": "markdown",
   "id": "923261bb",
   "metadata": {},
   "source": [
    "<a href='https://ai.meng.duke.edu'> = <img align=\"left\" style=\"padding-top:10px;\" src=https://storage.googleapis.com/aipi_datasets/Duke-AIPI-Logo.png>"
   ]
  },
  {
   "cell_type": "markdown",
   "id": "cd16594c",
   "metadata": {},
   "source": [
    "# Topic Modeling using Defined Topics"
   ]
  },
  {
   "cell_type": "code",
   "execution_count": 15,
   "id": "b2c22cf5",
   "metadata": {},
   "outputs": [],
   "source": [
    "import requests\n",
    "from sklearn.feature_extraction.text import CountVectorizer\n",
    "import spacy\n",
    "from sentence_transformers import SentenceTransformer\n",
    "from sklearn.metrics.pairwise import cosine_similarity\n",
    "from nltk.corpus import stopwords\n",
    "import numpy as np\n",
    "import pandas as pd"
   ]
  },
  {
   "cell_type": "markdown",
   "id": "b8e0a0bd",
   "metadata": {},
   "source": [
    "## Embed topics and documents and find closest matching topics"
   ]
  },
  {
   "cell_type": "code",
   "execution_count": 16,
   "id": "61e262c2",
   "metadata": {},
   "outputs": [],
   "source": [
    "def model_topics(documents,candidates, num_topics=1):\n",
    "    model = SentenceTransformer('all-MiniLM-L6-v2')\n",
    "    \n",
    "    # Encode each of the reviews\n",
    "    doc_embeddings = [model.encode([doc]) for doc in documents]\n",
    "    # Encode the candidate topics\n",
    "    candidate_embeddings = model.encode(candidates)\n",
    "\n",
    "    # Calculate cosine similarity between each document and candidate topics\n",
    "    # Take the top candidate topic as topic for each document\n",
    "    all_scores = []\n",
    "    topics = []\n",
    "    for doc in doc_embeddings:\n",
    "        scores = cosine_similarity(doc, candidate_embeddings)\n",
    "        #topic = candidates[scores.argsort()[0][-1]]\n",
    "        topic = [candidates[index] for index in scores.argsort()[0][-num_topics:]]\n",
    "        topics.append(topic)\n",
    "        all_scores.append(scores)\n",
    "    \n",
    "    return topics, all_scores"
   ]
  },
  {
   "cell_type": "code",
   "execution_count": 17,
   "id": "df149a73-6231-4b7b-97cb-2a857f5b6fb4",
   "metadata": {},
   "outputs": [
    {
     "data": {
      "text/html": [
       "<div>\n",
       "<style scoped>\n",
       "    .dataframe tbody tr th:only-of-type {\n",
       "        vertical-align: middle;\n",
       "    }\n",
       "\n",
       "    .dataframe tbody tr th {\n",
       "        vertical-align: top;\n",
       "    }\n",
       "\n",
       "    .dataframe thead th {\n",
       "        text-align: right;\n",
       "    }\n",
       "</style>\n",
       "<table border=\"1\" class=\"dataframe\">\n",
       "  <thead>\n",
       "    <tr style=\"text-align: right;\">\n",
       "      <th></th>\n",
       "      <th>Review</th>\n",
       "      <th>Rating</th>\n",
       "      <th>Sentiment</th>\n",
       "      <th>cleaned_reviews</th>\n",
       "    </tr>\n",
       "  </thead>\n",
       "  <tbody>\n",
       "    <tr>\n",
       "      <th>0</th>\n",
       "      <td>unique, great stay, wonderful time hotel monac...</td>\n",
       "      <td>5</td>\n",
       "      <td>1.0</td>\n",
       "      <td>unique great stay wonderful time hotel monaco ...</td>\n",
       "    </tr>\n",
       "    <tr>\n",
       "      <th>1</th>\n",
       "      <td>great stay great stay, went seahawk game aweso...</td>\n",
       "      <td>5</td>\n",
       "      <td>1.0</td>\n",
       "      <td>great stay great stay go seahawk game awesome ...</td>\n",
       "    </tr>\n",
       "    <tr>\n",
       "      <th>2</th>\n",
       "      <td>love monaco staff husband stayed hotel crazy w...</td>\n",
       "      <td>5</td>\n",
       "      <td>1.0</td>\n",
       "      <td>love monaco staff husband stay hotel crazy wee...</td>\n",
       "    </tr>\n",
       "    <tr>\n",
       "      <th>3</th>\n",
       "      <td>cozy stay rainy city, husband spent 7 nights m...</td>\n",
       "      <td>5</td>\n",
       "      <td>1.0</td>\n",
       "      <td>cozy stay rainy city husband spend night monac...</td>\n",
       "    </tr>\n",
       "    <tr>\n",
       "      <th>4</th>\n",
       "      <td>hotel stayed hotel monaco cruise, rooms genero...</td>\n",
       "      <td>5</td>\n",
       "      <td>1.0</td>\n",
       "      <td>hotel stay hotel monaco cruise room generous d...</td>\n",
       "    </tr>\n",
       "  </tbody>\n",
       "</table>\n",
       "</div>"
      ],
      "text/plain": [
       "                                              Review  Rating  Sentiment  \\\n",
       "0  unique, great stay, wonderful time hotel monac...       5        1.0   \n",
       "1  great stay great stay, went seahawk game aweso...       5        1.0   \n",
       "2  love monaco staff husband stayed hotel crazy w...       5        1.0   \n",
       "3  cozy stay rainy city, husband spent 7 nights m...       5        1.0   \n",
       "4  hotel stayed hotel monaco cruise, rooms genero...       5        1.0   \n",
       "\n",
       "                                     cleaned_reviews  \n",
       "0  unique great stay wonderful time hotel monaco ...  \n",
       "1  great stay great stay go seahawk game awesome ...  \n",
       "2  love monaco staff husband stay hotel crazy wee...  \n",
       "3  cozy stay rainy city husband spend night monac...  \n",
       "4  hotel stay hotel monaco cruise room generous d...  "
      ]
     },
     "execution_count": 17,
     "metadata": {},
     "output_type": "execute_result"
    }
   ],
   "source": [
    "data = pd.read_pickle(\"data.pkl\")\n",
    "data.head()"
   ]
  },
  {
   "cell_type": "code",
   "execution_count": 18,
   "id": "1b7eebed-bac4-4561-a2c4-487b7f17359c",
   "metadata": {},
   "outputs": [],
   "source": [
    "topic_list = ['Location','Cleanliness', 'Service', 'Food', 'Value', \n",
    "              'Restaurant', 'Room', 'Friendly staff', 'Room service', \n",
    "              'Walking distance']"
   ]
  },
  {
   "cell_type": "code",
   "execution_count": 19,
   "id": "9c85b49a",
   "metadata": {},
   "outputs": [],
   "source": [
    "topics, all_scores = model_topics(data.cleaned_reviews.values.tolist(), topic_list, num_topics=3)"
   ]
  },
  {
   "cell_type": "code",
   "execution_count": 20,
   "id": "ec802290-0129-47b1-8f2c-95a93b6d5888",
   "metadata": {},
   "outputs": [
    {
     "name": "stdout",
     "output_type": "stream",
     "text": [
      "Review 0:\n",
      " unique great stay wonderful time hotel monaco location excellent short stroll main downtown shopping area pet friendly room show sign animal hair smell monaco suite sleep area big striped curtain pull closed nice touch feel cosy goldfish name brandi enjoyed n partake free wine coffee tea service lobby think great feature great staff friendly free wireless internet hotel work suite laptop decor lovely eclectic mix patten color palatte animal print bathrobe feel like rock star nice n look like sterile chain hotel hotel personality excellent stay\n",
      "\n",
      "Topics: ['Location', 'Cleanliness', 'Service', 'Food', 'Value', 'Restaurant', 'Room', 'Friendly staff', 'Room service', 'Walking distance']\n",
      "Topic Scores: [[0.25144234 0.26877913 0.27726492 0.18494865 0.14613524 0.41625085\n",
      "  0.3921326  0.25681615 0.44320637 0.03223705]]\n",
      "Final Topic: ['Room', 'Restaurant', 'Room service']\n",
      "\n",
      "Review 1:\n",
      " great stay great stay go seahawk game awesome downfall view building n complain room huge staff helpful book hotel website seahawk package charge parking get voucher taxi problem taxi driver n want accept voucher barely speak english funny thing speak arabic call start make comment girlfriend cell phone buddy take second realize say fact speak language face priceless ass tell say large city tell head doorman issue call cab company promply answer n apologize offer pay taxi buck mile stadium game plan taxi return go humpin great walk n mind right christmas wonderful light homeless stow away build entrance leave police presence great area stadium activity block pike street waterfront great coffee shop way hotel mantaine foyer awesome wine taste available evening good dog take st bernard time family safes hotel located service desk room bathroom huge jetted tub huge funny house keep walk girlfriend get dress n hear knock turn service scream girlfriend screams hit floor laughing start talk spanish worked place recommend price check online deal good well besite contain deal voucher travel website n tell\n",
      "\n",
      "Topics: ['Location', 'Cleanliness', 'Service', 'Food', 'Value', 'Restaurant', 'Room', 'Friendly staff', 'Room service', 'Walking distance']\n",
      "Topic Scores: [[0.13639311 0.11185011 0.2521393  0.12554139 0.09098534 0.3098773\n",
      "  0.19240007 0.15539375 0.2744472  0.11606725]]\n",
      "Final Topic: ['Service', 'Room service', 'Restaurant']\n",
      "\n",
      "Review 2:\n",
      " love monaco staff husband stay hotel crazy weekend attend memorial service good friend husband celebrate 12th wedding anniversary talk mix emotion book suite hotel monte carlos loan beautiful fan tan goldfish name joliet weekend visit dog work desk human companion room decorate nicely couch use pillow l occitane bath amenity welcome sight room quiet peaceful wireless internet access wonderful server go morning leaving problem print boarding pass afternoon reception serve oenophile satisfy wine australia scrumptious cookie restaurant close renovation stay finally eat food good drink well word caution restaurant large person sit booth wo n fit lbs husband table smack stomach couple inch space mighty uncomfortable patron large pregnant bad design opinion place decorate funky welcoming way metal wood handblown glass light fixture expect seattle capital glass art industry definitely stay reason\n",
      "\n",
      "Topics: ['Location', 'Cleanliness', 'Service', 'Food', 'Value', 'Restaurant', 'Room', 'Friendly staff', 'Room service', 'Walking distance']\n",
      "Topic Scores: [[0.1588797  0.2576881  0.2520691  0.22645354 0.10298108 0.38817197\n",
      "  0.34263355 0.27733284 0.39553058 0.03296447]]\n",
      "Final Topic: ['Room', 'Restaurant', 'Room service']\n",
      "\n",
      "Review 3:\n",
      " cozy stay rainy city husband spend night monaco early january business trip chance come ride book monte carlo suite prove comfortable longish stay room located street building street noise problem view interesting room build look dank alley midsection large office building suite comfortable plenty room spread bathroom attractive squeaky clean small comparison generous proportion sit sleeping area lot comfortable seating option good lighting plenty storage clothing luggage hotel staff friendly efficient housekeep staff great job pleasant request respond quickly location quite good easy walk pike street market seattle art museum notch shopping dining option positive experience\n",
      "\n",
      "Topics: ['Location', 'Cleanliness', 'Service', 'Food', 'Value', 'Restaurant', 'Room', 'Friendly staff', 'Room service', 'Walking distance']\n",
      "Topic Scores: [[0.30804658 0.292466   0.21693301 0.21029711 0.17430906 0.3819345\n",
      "  0.44506606 0.21435323 0.45725536 0.11981048]]\n",
      "Final Topic: ['Restaurant', 'Room', 'Room service']\n",
      "\n",
      "Review 4:\n",
      " hotel stay hotel monaco cruise room generous decorate uniquely hotel remodel pacific bell build charm sturdiness everytime walk bell man feel like come home secure great single traveler location fabulous walk thing pike market space needle little grocery drug store block away today green bravo double bed room room bed couch separate curtain snore mom sleep curtain great food nearby\n",
      "\n",
      "Topics: ['Location', 'Cleanliness', 'Service', 'Food', 'Value', 'Restaurant', 'Room', 'Friendly staff', 'Room service', 'Walking distance']\n",
      "Topic Scores: [[0.29001838 0.2750394  0.25253025 0.23030993 0.1284062  0.439659\n",
      "  0.45736185 0.21743757 0.50454134 0.14969712]]\n",
      "Final Topic: ['Restaurant', 'Room', 'Room service']\n",
      "\n",
      "Review 5:\n",
      " excellent stayed hotel monaco past w e delight reception staff friendly professional room smart comfortable bed particularly like reception small dog receive staff guest speak love mild negative distance uphill ppmarket restaurant 1st overall great experience\n",
      "\n",
      "Topics: ['Location', 'Cleanliness', 'Service', 'Food', 'Value', 'Restaurant', 'Room', 'Friendly staff', 'Room service', 'Walking distance']\n",
      "Topic Scores: [[0.26058578 0.25918004 0.2766625  0.19575289 0.14927673 0.44024643\n",
      "  0.39161956 0.2993936  0.50796807 0.08975728]]\n",
      "Final Topic: ['Room', 'Restaurant', 'Room service']\n",
      "\n",
      "Review 6:\n",
      " horrible customer service hotel stay february 3rd 4th 2007my friend pick hotel monaco appealing website online package include champagne late checkout free valet gift spa weekend friend check room hour early come later pull valet young man stand ask valet open say pull bag c e offer help get garment bag suitcase come car key room number say valet car park car street pull leave key working ask valet park car get go room fine bottle champagne oil lotion gift spa dress go come get bed notice blood drop pillow sheet pillow disgust unbelievable call desk send somebody minute later swap sheet leave apologize sunday morning call desk speak management sheet aggravate rude apparently manager kind supervisor weekend wait monday morning young man speak say cover food add person change sheet say fresh blood rude tone checkout 3 p.m. package book staff maid try walk room open door apologize close people call say check remind package finally pack thing go downstairs check quickly sign paper take way take close look room unfortunately cover food offer charge valet call desk ask charges lady answer snap say aware problem experience monday like tell early life treat like hotel sure hotel constantly problem lucky one stay recommend anybody know\n",
      "\n",
      "Topics: ['Location', 'Cleanliness', 'Service', 'Food', 'Value', 'Restaurant', 'Room', 'Friendly staff', 'Room service', 'Walking distance']\n",
      "Topic Scores: [[0.05180804 0.19920693 0.2762494  0.04666826 0.03215845 0.31854886\n",
      "  0.15805292 0.29663146 0.4448861  0.0079309 ]]\n",
      "Final Topic: ['Friendly staff', 'Restaurant', 'Room service']\n",
      "\n",
      "Review 7:\n",
      " fantastic stay monaco seattle hotel monaco hold high standard kimpton hotel line stay kimpton hotels city easily say seattle hotel monaco best see service attentive prompt base member kimpton loyalty program upgrade 10th floor room great view 4th street excellent public library kitty corner hotel highly recommend tour public library blow away room quite spacious beautiful flat screen television dvd cd player exercise room pretty standard kimpton size mean adequate outstanding eliptical cardio machine stationary bike personal viewing screen cardio machine screen accept dvd see kimpton hotels hotel monaco line particular hotel lobby stylish quirky inviting easy imagine spending time relax comfortable stuff chair restaurant attach hotel sazerac good far eat lunch look forward breakfast tomorrow kimpton property able connect free highspeed internet ethernet second cruise web check email office problem opinion ca n wrong kimpton hotel seattle hotel monaco certainly excellent choice\n",
      "\n",
      "Topics: ['Location', 'Cleanliness', 'Service', 'Food', 'Value', 'Restaurant', 'Room', 'Friendly staff', 'Room service', 'Walking distance']\n",
      "Topic Scores: [[0.21514523 0.13998775 0.23775873 0.09686859 0.10159981 0.37584415\n",
      "  0.2924757  0.12972006 0.38482127 0.05739155]]\n",
      "Final Topic: ['Room', 'Restaurant', 'Room service']\n",
      "\n",
      "Review 8:\n",
      " good choice hotel recommend sister great location room nice comfortable bed quiet staff helpful recommendation restaurant pike market block walk stay\n",
      "\n",
      "Topics: ['Location', 'Cleanliness', 'Service', 'Food', 'Value', 'Restaurant', 'Room', 'Friendly staff', 'Room service', 'Walking distance']\n",
      "Topic Scores: [[0.31304985 0.19401014 0.17387027 0.15144254 0.10757445 0.43501034\n",
      "  0.44857875 0.234541   0.5091659  0.13705559]]\n",
      "Final Topic: ['Restaurant', 'Room', 'Room service']\n",
      "\n",
      "Review 9:\n",
      " service service service spend week g friend labor day bumbershoot gray line airporter drop corner hotel person cab total make sure flat rate town car location central downtown street w c e quick walk point tourist business yes space needle bite far monorail westlake center easy walk away tourist underground tour public market space needle emp leave bit room luggage shop great neighborhood safe clean room mediterranean suite quite large equipped two person jacuzzi tub small stand glass enclose shower room view care room clean small throw blanket adorn foot bed take tastefully decorate wall stripe trust will not feel like stale hotel ask gold fish bring well behaved dog company service aspect excellent desk house keep concierge room service bell desk ready provide warm professional service test c e flinch gym open hour new cardio machine dumbbell high weight water towel tv gold c e walk distance gastronomy sazerac worth try impressive c e amusing visit seattle monaco like bed westin well prefer monaco afford w g friend visit want bumbershoot year stay hotel monaco\n",
      "\n",
      "Topics: ['Location', 'Cleanliness', 'Service', 'Food', 'Value', 'Restaurant', 'Room', 'Friendly staff', 'Room service', 'Walking distance']\n",
      "Topic Scores: [[0.20933163 0.2245999  0.41886017 0.18425834 0.12549934 0.37711757\n",
      "  0.26446077 0.29274407 0.48795566 0.17522731]]\n",
      "Final Topic: ['Restaurant', 'Service', 'Room service']\n",
      "\n"
     ]
    }
   ],
   "source": [
    "reviews = data.cleaned_reviews.values.tolist()\n",
    "for i,keywords in enumerate(topics[:10]):\n",
    "    print('Review {}:\\n {}'.format(i,reviews[i]))\n",
    "    print()\n",
    "    print('Topics: {}'.format(topic_list))\n",
    "    print('Topic Scores: {}'.format(all_scores[i]))\n",
    "    print('Final Topic: {}'.format(keywords))\n",
    "    print()"
   ]
  },
  {
   "cell_type": "code",
   "execution_count": 21,
   "id": "7097f852-6988-45f5-9fd3-03b81bfcae5c",
   "metadata": {},
   "outputs": [],
   "source": [
    "data[\"Topics\"] = topics"
   ]
  },
  {
   "cell_type": "code",
   "execution_count": 22,
   "id": "05e7332d-ae77-4179-9375-66c9bbce123b",
   "metadata": {},
   "outputs": [],
   "source": [
    "data.to_csv(\"topic_modeling_predefined_topics.csv\", index=False)"
   ]
  },
  {
   "cell_type": "code",
   "execution_count": null,
   "id": "fd27bccc-35f8-4c9d-b8dd-1277de3488ef",
   "metadata": {},
   "outputs": [],
   "source": []
  }
 ],
 "metadata": {
  "kernelspec": {
   "display_name": "aipi540",
   "language": "python",
   "name": "aipi540"
  },
  "language_info": {
   "codemirror_mode": {
    "name": "ipython",
    "version": 3
   },
   "file_extension": ".py",
   "mimetype": "text/x-python",
   "name": "python",
   "nbconvert_exporter": "python",
   "pygments_lexer": "ipython3",
   "version": "3.8.16"
  }
 },
 "nbformat": 4,
 "nbformat_minor": 5
}
